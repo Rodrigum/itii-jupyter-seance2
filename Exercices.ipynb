{
 "cells": [
  {
   "cell_type": "code",
   "execution_count": 28,
   "metadata": {},
   "outputs": [
    {
     "name": "stdout",
     "output_type": "stream",
     "text": [
      "4\n",
      "2\n",
      "12\n",
      "8\n",
      "5\n"
     ]
    }
   ],
   "source": [
    "class Rectangle:\n",
    "    def __init__(self,long,large):\n",
    "        self.longueur = long\n",
    "        self.largeur = large\n",
    "        \n",
    "    def Surface(self):\n",
    "        return self.longueur * self.largeur\n",
    "    \n",
    "    def Perimetre(self):\n",
    "        return 2*self.longueur + 2*self.largeur\n",
    "    \n",
    "    def get_longueur(self):\n",
    "        return self.longueur\n",
    "    \n",
    "    def get_largeur(self):\n",
    "        return self.largeur\n",
    "    \n",
    "    def set_longueur(self,m_long):\n",
    "        self.longueur = m_long\n",
    "        \n",
    "    def set_largeur(self,m_large):\n",
    "        self.largeur = m_large\n",
    " \n",
    "class Parallelepipede:\n",
    "    def __init__(self,Rectangle,m_haut):\n",
    "        self.longueur = Rectangle.longueur\n",
    "        self.largeur = Rectangle.largeur\n",
    "        self.hauteur = m_haut\n",
    "        \n",
    "    def get_hauteur(self):\n",
    "        return self.hauteur\n",
    "        \n",
    "M_Rectangle = Rectangle(4,2)\n",
    "print(M_Rectangle.get_longueur())\n",
    "print(M_Rectangle.get_largeur())\n",
    "print(M_Rectangle.Perimetre())\n",
    "print(M_Rectangle.Surface())\n",
    "\n",
    "M_Parallelepipede = Parallelepipede(M_Rectangle,5)\n",
    "print(M_Parallelepipede.get_hauteur())"
   ]
  },
  {
   "cell_type": "code",
   "execution_count": 34,
   "metadata": {},
   "outputs": [
    {
     "name": "stdout",
     "output_type": "stream",
     "text": [
      "(1, 2)\n",
      "(3, 6)\n"
     ]
    }
   ],
   "source": [
    "class Vecteur2D:\n",
    "    def __init__(self,x,y):\n",
    "        self.coord_x = x\n",
    "        self.coord_y = y\n",
    "    \n",
    "    def Afficher(self):\n",
    "        return self.coord_x , self.coord_y\n",
    "    \n",
    "    def __add__(vecteur1,vecteur2):\n",
    "        return Vecteur2D(vecteur1.coord_x + vecteur2.coord_x, vecteur1.coord_y + vecteur2.coord_y)\n",
    "    \n",
    "M_Vecteur1 = Vecteur2D(1,2)\n",
    "print(M_Vecteur1.Afficher())\n",
    "M_Vecteur2 = Vecteur2D(2,4)\n",
    "\n",
    "M_Vecteur3 = M_Vecteur1 + M_Vecteur2\n",
    "print(M_Vecteur3.Afficher())"
   ]
  },
  {
   "cell_type": "code",
   "execution_count": null,
   "metadata": {},
   "outputs": [],
   "source": [
    "class Base:\n",
    "    def pop(self):\n",
    "        pass\n",
    "    def push(self,elt):\n",
    "        pass"
   ]
  }
 ],
 "metadata": {
  "kernelspec": {
   "display_name": "Python 3",
   "language": "python",
   "name": "python3"
  },
  "language_info": {
   "codemirror_mode": {
    "name": "ipython",
    "version": 3
   },
   "file_extension": ".py",
   "mimetype": "text/x-python",
   "name": "python",
   "nbconvert_exporter": "python",
   "pygments_lexer": "ipython3",
   "version": "3.7.6"
  }
 },
 "nbformat": 4,
 "nbformat_minor": 4
}
